{
 "cells": [
  {
   "cell_type": "code",
   "execution_count": 20,
   "id": "dd8c775a",
   "metadata": {},
   "outputs": [],
   "source": [
    "import sqlite3\n",
    "from flask import Flask, render_template"
   ]
  },
  {
   "cell_type": "code",
   "execution_count": 21,
   "id": "29d5eafe",
   "metadata": {},
   "outputs": [],
   "source": [
    "conn = sqlite3.connect('Housing_Table.sqlite')"
   ]
  },
  {
   "cell_type": "code",
   "execution_count": 22,
   "id": "33d40d73",
   "metadata": {},
   "outputs": [],
   "source": [
    "cur=conn.cursor()"
   ]
  },
  {
   "cell_type": "code",
   "execution_count": 23,
   "id": "cc46960d",
   "metadata": {},
   "outputs": [],
   "source": [
    "res=cur.execute('SELECT * FROM Housing')"
   ]
  },
  {
   "cell_type": "code",
   "execution_count": 24,
   "id": "a4d1b593",
   "metadata": {},
   "outputs": [
    {
     "data": {
      "text/plain": [
       "(452600,\n",
       " 8.3252,\n",
       " 41,\n",
       " 880,\n",
       " 129,\n",
       " 322,\n",
       " 126,\n",
       " 37.88,\n",
       " -122.23,\n",
       " 9263.040773,\n",
       " 556529.1583,\n",
       " 735501.807,\n",
       " 67432.517,\n",
       " 21250.21377)"
      ]
     },
     "execution_count": 24,
     "metadata": {},
     "output_type": "execute_result"
    }
   ],
   "source": [
    "res.fetchone()"
   ]
  },
  {
   "cell_type": "code",
   "execution_count": null,
   "id": "06589096",
   "metadata": {},
   "outputs": [],
   "source": [
    "pd.cut"
   ]
  }
 ],
 "metadata": {
  "kernelspec": {
   "display_name": "Python 3 (ipykernel)",
   "language": "python",
   "name": "python3"
  },
  "language_info": {
   "codemirror_mode": {
    "name": "ipython",
    "version": 3
   },
   "file_extension": ".py",
   "mimetype": "text/x-python",
   "name": "python",
   "nbconvert_exporter": "python",
   "pygments_lexer": "ipython3",
   "version": "3.9.13"
  }
 },
 "nbformat": 4,
 "nbformat_minor": 5
}
